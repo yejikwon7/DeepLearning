{
  "nbformat": 4,
  "nbformat_minor": 0,
  "metadata": {
    "colab": {
      "provenance": [],
      "gpuType": "T4",
      "authorship_tag": "ABX9TyN7zpiqM0bUptZ1JZ6e6bcx",
      "include_colab_link": true
    },
    "kernelspec": {
      "name": "python3",
      "display_name": "Python 3"
    },
    "language_info": {
      "name": "python"
    },
    "accelerator": "GPU"
  },
  "cells": [
    {
      "cell_type": "markdown",
      "metadata": {
        "id": "view-in-github",
        "colab_type": "text"
      },
      "source": [
        "<a href=\"https://colab.research.google.com/github/yejikwon7/DeepLearning/blob/main/NLTK.ipynb\" target=\"_parent\"><img src=\"https://colab.research.google.com/assets/colab-badge.svg\" alt=\"Open In Colab\"/></a>"
      ]
    },
    {
      "cell_type": "markdown",
      "source": [
        "NLTK를 이용한 전처리"
      ],
      "metadata": {
        "id": "XKTzPo9EPhnA"
      }
    },
    {
      "cell_type": "code",
      "execution_count": null,
      "metadata": {
        "colab": {
          "base_uri": "https://localhost:8080/"
        },
        "id": "IGAJvxEr7agQ",
        "outputId": "0fa3ff98-07f8-4d31-f677-0d7e52053b36"
      },
      "outputs": [
        {
          "output_type": "stream",
          "name": "stdout",
          "text": [
            "['This', 'is', 'a', 'dog', '.']\n"
          ]
        },
        {
          "output_type": "stream",
          "name": "stderr",
          "text": [
            "[nltk_data] Downloading package punkt to /root/nltk_data...\n",
            "[nltk_data]   Package punkt is already up-to-date!\n"
          ]
        }
      ],
      "source": [
        "import nltk\n",
        "nltk.download('punkt')\n",
        "\n",
        "from nltk.tokenize import word_tokenize # 단어 토큰화\n",
        "\n",
        "text = \"This is a dog.\"\n",
        "print(word_tokenize(text))"
      ]
    },
    {
      "cell_type": "code",
      "source": [
        "from nltk.tokenize import sent_tokenize # 문장 토큰화\n",
        "\n",
        "text = \"This is a house. This is a dog.\"\n",
        "print(sent_tokenize(text))"
      ],
      "metadata": {
        "colab": {
          "base_uri": "https://localhost:8080/"
        },
        "id": "sVCicu7YMgCX",
        "outputId": "e7568331-9b18-4feb-e255-56289280ba9a"
      },
      "execution_count": null,
      "outputs": [
        {
          "output_type": "stream",
          "name": "stdout",
          "text": [
            "['This is a house.', 'This is a dog.']\n"
          ]
        }
      ]
    },
    {
      "cell_type": "code",
      "source": [
        "nltk.download('stopwords')\n",
        "\n",
        "from nltk.corpus import stopwords # 불용어\n",
        "print(stopwords.words('english')[:20]) # 불용어 확인하기"
      ],
      "metadata": {
        "colab": {
          "base_uri": "https://localhost:8080/"
        },
        "id": "VbOCFQF0MwfE",
        "outputId": "7ab88602-0267-4329-f964-503fbea5be94"
      },
      "execution_count": null,
      "outputs": [
        {
          "output_type": "stream",
          "name": "stdout",
          "text": [
            "['i', 'me', 'my', 'myself', 'we', 'our', 'ours', 'ourselves', 'you', \"you're\", \"you've\", \"you'll\", \"you'd\", 'your', 'yours', 'yourself', 'yourselves', 'he', 'him', 'his']\n"
          ]
        },
        {
          "output_type": "stream",
          "name": "stderr",
          "text": [
            "[nltk_data] Downloading package stopwords to /root/nltk_data...\n",
            "[nltk_data]   Unzipping corpora/stopwords.zip.\n"
          ]
        }
      ]
    },
    {
      "cell_type": "code",
      "source": [
        "import re\n",
        "\n",
        "text = \"I was wondering if anyone out there could enlighen me on this car.\"\n",
        "\n",
        "shortword = re.compile(r'\\W*\\b\\w{1,2}\\b') # 단어 1~2개짜리 제거\n",
        "print(shortword.sub('', text))"
      ],
      "metadata": {
        "colab": {
          "base_uri": "https://localhost:8080/"
        },
        "id": "AtuOhwP3M5z3",
        "outputId": "664723b4-7379-42c6-d890-34982355f9e1"
      },
      "execution_count": null,
      "outputs": [
        {
          "output_type": "stream",
          "name": "stdout",
          "text": [
            " was wondering anyone out there could enlighen this car.\n"
          ]
        }
      ]
    },
    {
      "cell_type": "markdown",
      "source": [
        "케라스를 이용한 전처리"
      ],
      "metadata": {
        "id": "Zj3UqvaYCi32"
      }
    },
    {
      "cell_type": "code",
      "source": [
        "from tensorflow.keras.preprocessing.text import * # text 전처리\n",
        "\n",
        "print(text_to_word_sequence(\"This is a dog.\"))"
      ],
      "metadata": {
        "colab": {
          "base_uri": "https://localhost:8080/"
        },
        "id": "icCCJVxANJ1k",
        "outputId": "f3d95db1-db33-40ac-abcc-17ca44aac314"
      },
      "execution_count": null,
      "outputs": [
        {
          "output_type": "stream",
          "name": "stdout",
          "text": [
            "['this', 'is', 'a', 'dog']\n"
          ]
        }
      ]
    },
    {
      "cell_type": "markdown",
      "source": [
        "one-hot encoding : 케라스에서 원-핫 인코딩 만들기"
      ],
      "metadata": {
        "id": "GsP6L_UYPlNK"
      }
    },
    {
      "cell_type": "code",
      "source": [
        "import numpy as np\n",
        "from keras.utils import to_categorical # to_categorical 사용해 one-hot encoding 만듦\n",
        "\n",
        "# 우리가 변환하고 싶은 텍스트\n",
        "text = [\"cat\", \"dog\", \"cat\", \"bird\"]\n",
        "\n",
        "# 단어 집합(말뭉치, corpus)\n",
        "total_pets = [\"cat\", \"dog\", \"turtle\", \"fish\", \"bird\"] # 정수화 되어있는 순서\n",
        "print(\"text= \", text)\n",
        "\n",
        "# 변환에 사용되는 딕셔너리를 만든다\n",
        "mapping = {}\n",
        "for x in range(len(total_pets)):\n",
        "  mapping[total_pets[x]] = x # \"cat\" -> 0, \"dog\" -> 1, ...\n",
        "  # 숫자와 mapping: 순서(위치)에 따라 숫자 부여\n",
        "print(mapping)\n",
        "\n",
        "# 단어들을 순차적인 정수 인덱스로 만든다\n",
        "for x in range(len(text)):\n",
        "  text[x] = mapping[text[x]] # dictionary\n",
        "\n",
        "print(\"text= \", text)\n",
        "\n",
        "# 순차적인 정수 인덱스를 원-핫 인코딩으로 만든다\n",
        "one_hot_encode = to_categorical(text) # 변환\n",
        "print(\"text= \", one_hot_encode)"
      ],
      "metadata": {
        "colab": {
          "base_uri": "https://localhost:8080/"
        },
        "id": "ADDbgM5FPlpr",
        "outputId": "07c87c23-3db7-4e9e-9c4a-b3c2661dff79"
      },
      "execution_count": null,
      "outputs": [
        {
          "output_type": "stream",
          "name": "stdout",
          "text": [
            "text=  ['cat', 'dog', 'cat', 'bird']\n",
            "{'cat': 0, 'dog': 1, 'turtle': 2, 'fish': 3, 'bird': 4}\n",
            "text=  [0, 1, 0, 4]\n",
            "text=  [[1. 0. 0. 0. 0.]\n",
            " [0. 1. 0. 0. 0.]\n",
            " [1. 0. 0. 0. 0.]\n",
            " [0. 0. 0. 0. 1.]]\n"
          ]
        }
      ]
    },
    {
      "cell_type": "markdown",
      "source": [
        "keras에서의 자연어 처리"
      ],
      "metadata": {
        "id": "yTuhMasLd6Qa"
      }
    },
    {
      "cell_type": "code",
      "source": [
        "# 전처리와 토큰화\n",
        "from tensorflow.keras.preprocessing.text import Tokenizer\n",
        "\n",
        "t = Tokenizer() # 단어 집합 만듦\n",
        "text = \"\"\"Deep learning is part of a broader family of machine learning methods based on artificial neural networks with representatino learning.\"\"\"\n",
        "\n",
        "t.fit_on_texts([text]) # 각 단어마다 정수화\n",
        "print(\"단어집합: \", t.word_index)"
      ],
      "metadata": {
        "colab": {
          "base_uri": "https://localhost:8080/"
        },
        "id": "iQH8LfpQRLJv",
        "outputId": "6f866040-f592-4c3d-9a0e-4cbd553512b5"
      },
      "execution_count": null,
      "outputs": [
        {
          "output_type": "stream",
          "name": "stdout",
          "text": [
            "단어집합:  {'learning': 1, 'of': 2, 'deep': 3, 'is': 4, 'part': 5, 'a': 6, 'broader': 7, 'family': 8, 'machine': 9, 'methods': 10, 'based': 11, 'on': 12, 'artificial': 13, 'neural': 14, 'networks': 15, 'with': 16, 'representatino': 17}\n"
          ]
        }
      ]
    },
    {
      "cell_type": "code",
      "source": [
        "# 텍스트의 정수 인코딩\n",
        "seq = t.texts_to_sequences([text])[0] # text 기반의 시퀀스로 출력\n",
        "print(text, \"-> \", seq)"
      ],
      "metadata": {
        "colab": {
          "base_uri": "https://localhost:8080/"
        },
        "id": "KX9Lwb1qg7Cx",
        "outputId": "fbb3021a-19c8-4b64-edb0-c49dcbc9c541"
      },
      "execution_count": null,
      "outputs": [
        {
          "output_type": "stream",
          "name": "stdout",
          "text": [
            "Deep learning is part of a broader family of machine learning methods based on artificial neural networks with representatino learning. ->  [3, 1, 4, 5, 2, 6, 7, 8, 2, 9, 1, 10, 11, 12, 13, 14, 15, 16, 17, 1]\n"
          ]
        }
      ]
    },
    {
      "cell_type": "code",
      "source": [
        "# 샘플의 패딩: 크기 나눠야 input 크기 결정됨, 심플 길이 맞춤\n",
        "from tensorflow.keras.preprocessing.sequence import pad_sequences\n",
        "\n",
        "X = pad_sequences([[7, 8, 9], [1, 2, 3, 4, 5], [7]], maxlen=3, padding='pre') # 입력은 동일 크기로 주어야 하므로 길이 규정: 3\n",
        "print(X)"
      ],
      "metadata": {
        "colab": {
          "base_uri": "https://localhost:8080/"
        },
        "id": "tkMPLuqNhDZE",
        "outputId": "7ac23404-9b40-4108-e6d4-a9753ea48adb"
      },
      "execution_count": null,
      "outputs": [
        {
          "output_type": "stream",
          "name": "stdout",
          "text": [
            "[[7 8 9]\n",
            " [3 4 5]\n",
            " [0 0 7]]\n"
          ]
        }
      ]
    },
    {
      "cell_type": "code",
      "source": [
        "import numpy as np\n",
        "from tensorflow.keras.layers import Embedding # kears는 임베딩이라는 layer 가짐 # layer통해 데이터 임베딩\n",
        "from tensorflow.keras.models import Sequential\n",
        "\n",
        "# 입력 형태: (batch_size, input_length)=(32, 3)\n",
        "# 출력 형태: (None, 3, 4)\n",
        "model = Sequential()\n",
        "model.add(Embedding(100, 4, input_length=3)) # 한 단어 당 4개짜리 밀집 벡터 생성\n",
        "\n",
        "input_array = np.random.randint(100, size=(32, 3))\n",
        "model.compile('rmsprop', 'mse')\n",
        "output_array = model.predict(input_array) # 모델 예측\n",
        "print(output_array.shape)\n",
        "# 독립적으로 만들어진 형태"
      ],
      "metadata": {
        "colab": {
          "base_uri": "https://localhost:8080/"
        },
        "id": "FBSG9GCKhRG_",
        "outputId": "37b94aca-0840-4344-ba90-da79b7933936"
      },
      "execution_count": null,
      "outputs": [
        {
          "output_type": "stream",
          "name": "stderr",
          "text": [
            "/usr/local/lib/python3.10/dist-packages/keras/src/layers/core/embedding.py:90: UserWarning: Argument `input_length` is deprecated. Just remove it.\n",
            "  warnings.warn(\n"
          ]
        },
        {
          "output_type": "stream",
          "name": "stdout",
          "text": [
            "\u001b[1m1/1\u001b[0m \u001b[32m━━━━━━━━━━━━━━━━━━━━\u001b[0m\u001b[37m\u001b[0m \u001b[1m0s\u001b[0m 220ms/step\n",
            "(32, 3, 4)\n"
          ]
        }
      ]
    },
    {
      "cell_type": "markdown",
      "source": [
        "IMDB 데이터셋의 분류"
      ],
      "metadata": {
        "id": "Tq93Ns3wd_qt"
      }
    },
    {
      "cell_type": "code",
      "source": [
        "from tensorflow.keras.datasets import imdb # 정수화된 상태\n",
        "from tensorflow.keras.models import Sequential # 모델 구성\n",
        "from tensorflow.keras.layers import Dense, Flatten, Embedding # dense로 간단한 신경망으로 분류 # 임베딩된 벡터 기반으로 flatten, dense 사용해 감정 분류\n",
        "from tensorflow.keras import preprocessing # text 전처리\n",
        "\n",
        "dic_siz = 10000 # 사전의 크기(사전에 있는 단어 개수): 한정\n",
        "sample_siz = 512 # 샘플의 크기\n",
        "\n",
        "# tensorflow가 제공하는 간소한 버전의 IMDB 읽기\n",
        "(x_train, y_train), (x_test, y_test) = imdb.load_data(num_words=dic_siz)\n",
        "\n",
        "embed_space_dim = 16 # 16차원의 임베딩 공간: 각 단어마다 16개의 밀집 벡터 가짐\n",
        "\n",
        "# padding으로 서로 다른 문장의 길이를 맞춰주는 것\n",
        "# 동일하게 0으로 패딩하게 되는데, 문장 앞쪽에 패딩 수행\n",
        "x_train = preprocessing.sequence.pad_sequences(x_train, maxlen=sample_siz) # 512개로 길이 맞춤: 하나의 문장 안에 512개의 단어만 갖도록\n",
        "x_test = preprocessing.sequence.pad_sequences(x_test, maxlen=sample_siz)"
      ],
      "metadata": {
        "colab": {
          "base_uri": "https://localhost:8080/"
        },
        "id": "QKYCQ8iKeAsM",
        "outputId": "32d6539b-2135-4f88-f39b-1f02972acc61"
      },
      "execution_count": null,
      "outputs": [
        {
          "output_type": "stream",
          "name": "stdout",
          "text": [
            "Downloading data from https://storage.googleapis.com/tensorflow/tf-keras-datasets/imdb.npz\n",
            "\u001b[1m17464789/17464789\u001b[0m \u001b[32m━━━━━━━━━━━━━━━━━━━━\u001b[0m\u001b[37m\u001b[0m \u001b[1m0s\u001b[0m 0us/step\n"
          ]
        }
      ]
    },
    {
      "cell_type": "code",
      "source": [
        "# 신경망 모델 설계와 학습\n",
        "embed = Sequential() # 모델 구성\n",
        "# input_dim 차원을 output_dim 차원으로 축소 시킴\n",
        "embed.add(Embedding(input_dim=dic_siz, output_dim=embed_space_dim, input_length=sample_siz)) # 임베딩 layer 붙음\n",
        "embed.add(Flatten()) # input_length * output_dim 구조의 텐서를 일렬로 펼침\n",
        "embed.add(Dense(32, activation='relu')) # 은닉층\n",
        "embed.add(Dense(1, activation='sigmoid')) # Dense 구조: 다층 퍼셉트론을 적용 # output 1개 # 감정분류 : 긍/부 여부\n",
        "embed.compile(loss='binary_crossentropy', optimizer='adam', metrics=['accuracy'])\n",
        "hist=embed.fit(x_train, y_train, epochs=20, batch_size=64, validation_data=(x_test, y_test), verbose=2) # 임베딩된 모델 fitting\n",
        "\n",
        "embed.summary()\n",
        "\n",
        "# 모델 평가\n",
        "res = embed.evaluate(x_test, y_test, verbose=0)\n",
        "print(\"정확률은 \", res[1]*100)\n",
        "\n",
        "import matplotlib.pyplot as plt\n",
        "\n",
        "# 학습 곡선\n",
        "plt.plot(hist.history['accuracy'])\n",
        "plt.plot(hist.history['val_accuracy'])\n",
        "plt.title('Model accuracy')\n",
        "plt.xlabel('Epoch')\n",
        "plt.ylabel('Accuracy')\n",
        "plt.legend(['Train', 'Validation'], loc='best')\n",
        "plt.grid()\n",
        "plt.show()"
      ],
      "metadata": {
        "colab": {
          "base_uri": "https://localhost:8080/",
          "height": 1000
        },
        "id": "JQ_zB-gjd_V3",
        "outputId": "043c9c63-cd7b-4a08-9de2-62175023c388"
      },
      "execution_count": null,
      "outputs": [
        {
          "output_type": "stream",
          "name": "stderr",
          "text": [
            "/usr/local/lib/python3.10/dist-packages/keras/src/layers/core/embedding.py:90: UserWarning: Argument `input_length` is deprecated. Just remove it.\n",
            "  warnings.warn(\n"
          ]
        },
        {
          "output_type": "stream",
          "name": "stdout",
          "text": [
            "Epoch 1/20\n",
            "391/391 - 5s - 13ms/step - accuracy: 0.7700 - loss: 0.4444 - val_accuracy: 0.8712 - val_loss: 0.2956\n",
            "Epoch 2/20\n",
            "391/391 - 2s - 4ms/step - accuracy: 0.9317 - loss: 0.1803 - val_accuracy: 0.8609 - val_loss: 0.3353\n",
            "Epoch 3/20\n",
            "391/391 - 1s - 4ms/step - accuracy: 0.9839 - loss: 0.0611 - val_accuracy: 0.8646 - val_loss: 0.3785\n",
            "Epoch 4/20\n",
            "391/391 - 3s - 7ms/step - accuracy: 0.9973 - loss: 0.0158 - val_accuracy: 0.8576 - val_loss: 0.4596\n",
            "Epoch 5/20\n",
            "391/391 - 1s - 4ms/step - accuracy: 0.9997 - loss: 0.0040 - val_accuracy: 0.8588 - val_loss: 0.5116\n",
            "Epoch 6/20\n",
            "391/391 - 2s - 6ms/step - accuracy: 0.9999 - loss: 0.0019 - val_accuracy: 0.8584 - val_loss: 0.5462\n",
            "Epoch 7/20\n",
            "391/391 - 1s - 3ms/step - accuracy: 1.0000 - loss: 8.1635e-04 - val_accuracy: 0.8607 - val_loss: 0.5723\n",
            "Epoch 8/20\n",
            "391/391 - 1s - 3ms/step - accuracy: 1.0000 - loss: 4.8604e-04 - val_accuracy: 0.8615 - val_loss: 0.5945\n",
            "Epoch 9/20\n",
            "391/391 - 3s - 9ms/step - accuracy: 1.0000 - loss: 3.2827e-04 - val_accuracy: 0.8618 - val_loss: 0.6146\n",
            "Epoch 10/20\n",
            "391/391 - 2s - 4ms/step - accuracy: 1.0000 - loss: 2.3169e-04 - val_accuracy: 0.8620 - val_loss: 0.6337\n",
            "Epoch 11/20\n",
            "391/391 - 2s - 6ms/step - accuracy: 1.0000 - loss: 1.6894e-04 - val_accuracy: 0.8620 - val_loss: 0.6514\n",
            "Epoch 12/20\n",
            "391/391 - 1s - 3ms/step - accuracy: 1.0000 - loss: 1.2527e-04 - val_accuracy: 0.8622 - val_loss: 0.6684\n",
            "Epoch 13/20\n",
            "391/391 - 1s - 3ms/step - accuracy: 1.0000 - loss: 9.5956e-05 - val_accuracy: 0.8622 - val_loss: 0.6848\n",
            "Epoch 14/20\n",
            "391/391 - 1s - 3ms/step - accuracy: 1.0000 - loss: 7.1475e-05 - val_accuracy: 0.8629 - val_loss: 0.7006\n",
            "Epoch 15/20\n",
            "391/391 - 1s - 3ms/step - accuracy: 1.0000 - loss: 5.5363e-05 - val_accuracy: 0.8622 - val_loss: 0.7168\n",
            "Epoch 16/20\n",
            "391/391 - 3s - 6ms/step - accuracy: 1.0000 - loss: 4.3594e-05 - val_accuracy: 0.8623 - val_loss: 0.7328\n",
            "Epoch 17/20\n",
            "391/391 - 1s - 4ms/step - accuracy: 1.0000 - loss: 3.2893e-05 - val_accuracy: 0.8624 - val_loss: 0.7472\n",
            "Epoch 18/20\n",
            "391/391 - 1s - 3ms/step - accuracy: 1.0000 - loss: 2.6037e-05 - val_accuracy: 0.8630 - val_loss: 0.7620\n",
            "Epoch 19/20\n",
            "391/391 - 3s - 6ms/step - accuracy: 1.0000 - loss: 2.0413e-05 - val_accuracy: 0.8627 - val_loss: 0.7764\n",
            "Epoch 20/20\n",
            "391/391 - 3s - 7ms/step - accuracy: 1.0000 - loss: 1.6164e-05 - val_accuracy: 0.8630 - val_loss: 0.7912\n"
          ]
        },
        {
          "output_type": "display_data",
          "data": {
            "text/plain": [
              "\u001b[1mModel: \"sequential\"\u001b[0m\n"
            ],
            "text/html": [
              "<pre style=\"white-space:pre;overflow-x:auto;line-height:normal;font-family:Menlo,'DejaVu Sans Mono',consolas,'Courier New',monospace\"><span style=\"font-weight: bold\">Model: \"sequential\"</span>\n",
              "</pre>\n"
            ]
          },
          "metadata": {}
        },
        {
          "output_type": "display_data",
          "data": {
            "text/plain": [
              "┏━━━━━━━━━━━━━━━━━━━━━━━━━━━━━━━━━━━━━━┳━━━━━━━━━━━━━━━━━━━━━━━━━━━━━┳━━━━━━━━━━━━━━━━━┓\n",
              "┃\u001b[1m \u001b[0m\u001b[1mLayer (type)                        \u001b[0m\u001b[1m \u001b[0m┃\u001b[1m \u001b[0m\u001b[1mOutput Shape               \u001b[0m\u001b[1m \u001b[0m┃\u001b[1m \u001b[0m\u001b[1m        Param #\u001b[0m\u001b[1m \u001b[0m┃\n",
              "┡━━━━━━━━━━━━━━━━━━━━━━━━━━━━━━━━━━━━━━╇━━━━━━━━━━━━━━━━━━━━━━━━━━━━━╇━━━━━━━━━━━━━━━━━┩\n",
              "│ embedding (\u001b[38;5;33mEmbedding\u001b[0m)                │ (\u001b[38;5;45mNone\u001b[0m, \u001b[38;5;34m512\u001b[0m, \u001b[38;5;34m16\u001b[0m)             │         \u001b[38;5;34m160,000\u001b[0m │\n",
              "├──────────────────────────────────────┼─────────────────────────────┼─────────────────┤\n",
              "│ flatten (\u001b[38;5;33mFlatten\u001b[0m)                    │ (\u001b[38;5;45mNone\u001b[0m, \u001b[38;5;34m8192\u001b[0m)                │               \u001b[38;5;34m0\u001b[0m │\n",
              "├──────────────────────────────────────┼─────────────────────────────┼─────────────────┤\n",
              "│ dense (\u001b[38;5;33mDense\u001b[0m)                        │ (\u001b[38;5;45mNone\u001b[0m, \u001b[38;5;34m32\u001b[0m)                  │         \u001b[38;5;34m262,176\u001b[0m │\n",
              "├──────────────────────────────────────┼─────────────────────────────┼─────────────────┤\n",
              "│ dense_1 (\u001b[38;5;33mDense\u001b[0m)                      │ (\u001b[38;5;45mNone\u001b[0m, \u001b[38;5;34m1\u001b[0m)                   │              \u001b[38;5;34m33\u001b[0m │\n",
              "└──────────────────────────────────────┴─────────────────────────────┴─────────────────┘\n"
            ],
            "text/html": [
              "<pre style=\"white-space:pre;overflow-x:auto;line-height:normal;font-family:Menlo,'DejaVu Sans Mono',consolas,'Courier New',monospace\">┏━━━━━━━━━━━━━━━━━━━━━━━━━━━━━━━━━━━━━━┳━━━━━━━━━━━━━━━━━━━━━━━━━━━━━┳━━━━━━━━━━━━━━━━━┓\n",
              "┃<span style=\"font-weight: bold\"> Layer (type)                         </span>┃<span style=\"font-weight: bold\"> Output Shape                </span>┃<span style=\"font-weight: bold\">         Param # </span>┃\n",
              "┡━━━━━━━━━━━━━━━━━━━━━━━━━━━━━━━━━━━━━━╇━━━━━━━━━━━━━━━━━━━━━━━━━━━━━╇━━━━━━━━━━━━━━━━━┩\n",
              "│ embedding (<span style=\"color: #0087ff; text-decoration-color: #0087ff\">Embedding</span>)                │ (<span style=\"color: #00d7ff; text-decoration-color: #00d7ff\">None</span>, <span style=\"color: #00af00; text-decoration-color: #00af00\">512</span>, <span style=\"color: #00af00; text-decoration-color: #00af00\">16</span>)             │         <span style=\"color: #00af00; text-decoration-color: #00af00\">160,000</span> │\n",
              "├──────────────────────────────────────┼─────────────────────────────┼─────────────────┤\n",
              "│ flatten (<span style=\"color: #0087ff; text-decoration-color: #0087ff\">Flatten</span>)                    │ (<span style=\"color: #00d7ff; text-decoration-color: #00d7ff\">None</span>, <span style=\"color: #00af00; text-decoration-color: #00af00\">8192</span>)                │               <span style=\"color: #00af00; text-decoration-color: #00af00\">0</span> │\n",
              "├──────────────────────────────────────┼─────────────────────────────┼─────────────────┤\n",
              "│ dense (<span style=\"color: #0087ff; text-decoration-color: #0087ff\">Dense</span>)                        │ (<span style=\"color: #00d7ff; text-decoration-color: #00d7ff\">None</span>, <span style=\"color: #00af00; text-decoration-color: #00af00\">32</span>)                  │         <span style=\"color: #00af00; text-decoration-color: #00af00\">262,176</span> │\n",
              "├──────────────────────────────────────┼─────────────────────────────┼─────────────────┤\n",
              "│ dense_1 (<span style=\"color: #0087ff; text-decoration-color: #0087ff\">Dense</span>)                      │ (<span style=\"color: #00d7ff; text-decoration-color: #00d7ff\">None</span>, <span style=\"color: #00af00; text-decoration-color: #00af00\">1</span>)                   │              <span style=\"color: #00af00; text-decoration-color: #00af00\">33</span> │\n",
              "└──────────────────────────────────────┴─────────────────────────────┴─────────────────┘\n",
              "</pre>\n"
            ]
          },
          "metadata": {}
        },
        {
          "output_type": "display_data",
          "data": {
            "text/plain": [
              "\u001b[1m Total params: \u001b[0m\u001b[38;5;34m1,266,629\u001b[0m (4.83 MB)\n"
            ],
            "text/html": [
              "<pre style=\"white-space:pre;overflow-x:auto;line-height:normal;font-family:Menlo,'DejaVu Sans Mono',consolas,'Courier New',monospace\"><span style=\"font-weight: bold\"> Total params: </span><span style=\"color: #00af00; text-decoration-color: #00af00\">1,266,629</span> (4.83 MB)\n",
              "</pre>\n"
            ]
          },
          "metadata": {}
        },
        {
          "output_type": "display_data",
          "data": {
            "text/plain": [
              "\u001b[1m Trainable params: \u001b[0m\u001b[38;5;34m422,209\u001b[0m (1.61 MB)\n"
            ],
            "text/html": [
              "<pre style=\"white-space:pre;overflow-x:auto;line-height:normal;font-family:Menlo,'DejaVu Sans Mono',consolas,'Courier New',monospace\"><span style=\"font-weight: bold\"> Trainable params: </span><span style=\"color: #00af00; text-decoration-color: #00af00\">422,209</span> (1.61 MB)\n",
              "</pre>\n"
            ]
          },
          "metadata": {}
        },
        {
          "output_type": "display_data",
          "data": {
            "text/plain": [
              "\u001b[1m Non-trainable params: \u001b[0m\u001b[38;5;34m0\u001b[0m (0.00 B)\n"
            ],
            "text/html": [
              "<pre style=\"white-space:pre;overflow-x:auto;line-height:normal;font-family:Menlo,'DejaVu Sans Mono',consolas,'Courier New',monospace\"><span style=\"font-weight: bold\"> Non-trainable params: </span><span style=\"color: #00af00; text-decoration-color: #00af00\">0</span> (0.00 B)\n",
              "</pre>\n"
            ]
          },
          "metadata": {}
        },
        {
          "output_type": "display_data",
          "data": {
            "text/plain": [
              "\u001b[1m Optimizer params: \u001b[0m\u001b[38;5;34m844,420\u001b[0m (3.22 MB)\n"
            ],
            "text/html": [
              "<pre style=\"white-space:pre;overflow-x:auto;line-height:normal;font-family:Menlo,'DejaVu Sans Mono',consolas,'Courier New',monospace\"><span style=\"font-weight: bold\"> Optimizer params: </span><span style=\"color: #00af00; text-decoration-color: #00af00\">844,420</span> (3.22 MB)\n",
              "</pre>\n"
            ]
          },
          "metadata": {}
        },
        {
          "output_type": "stream",
          "name": "stdout",
          "text": [
            "정확률은  86.29599809646606\n"
          ]
        },
        {
          "output_type": "display_data",
          "data": {
            "text/plain": [
              "<Figure size 640x480 with 1 Axes>"
            ],
            "image/png": "[encoded data removed]"
          },
          "metadata": {}
        }
      ]
    },
    {
      "cell_type": "code",
      "source": [
        "from tensorflow.keras.datasets import imdb\n",
        "from tensorflow.keras.models import Sequential\n",
        "from tensorflow.keras.layers import Dense, LSTM, Embedding\n",
        "from tensorflow.keras import preprocessing\n",
        "from tensorflow.keras.callbacks import EarlyStopping\n",
        "\n",
        "dic_siz = 10000 # 사전의 크기(사전에 있는 단어 개수): 한정\n",
        "sample_siz = 512 # 샘플의 크기\n",
        "\n",
        "# tensorflow가 제공하는 간소한 버전의 IMDB 읽기\n",
        "(x_train, y_train), (x_test, y_test) = imdb.load_data(num_words=dic_siz)\n",
        "\n",
        "embed_space_dim = 16 # 16차원 임베딩 공간\n",
        "\n",
        "x_train = preprocessing.sequence.pad_sequences(x_train, maxlen=sample_siz)\n",
        "x_test = preprocessing.sequence.pad_sequences(x_test, maxlen=sample_siz)\n",
        "\n",
        "early = EarlyStopping(monitor='val_accuracy', patience=5, restore_best_weights=True)\n",
        "# earlystopping: validation에 변화 없었기 때문\n",
        "# val_accuracy검증 집합에 대한 정확률을 조기 멈춤 기준으로 사용\n",
        "# patience: 5세대 동안 성능 향상 없으면 멈춤(과정 얼마나 체크할지)\n",
        "# restore_best_weights: 가장 높은 성능을 발휘했을 때의 가중치 취함(5 epoch 중)\n",
        "\n",
        "# 신경망 모델의 설계와 학습(LSTM 층 포함)\n",
        "embed = Sequential()\n",
        "embed.add(Embedding(input_dim=dic_siz, output_dim=embed_space_dim, input_length=sample_siz))\n",
        "embed.add(LSTM(units=32))\n",
        "embed.add(Dense(1, activation='sigmoid'))\n",
        "embed.compile(loss='binary_crossentropy', optimizer='Adam', metrics=['accuracy'])\n",
        "hist = embed.fit(x_train, y_train, epochs=20, batch_size=64, validation_split=0.2, verbose=2, callbacks=[early])\n",
        "# 0.2: 훈련 집합의 20%를 떼어 검증 집합으로 사용\n",
        "# callbacks: 콜백 함수를 통해 조기 멈춤 적용"
      ],
      "metadata": {
        "colab": {
          "base_uri": "https://localhost:8080/"
        },
        "id": "YMzbKmUbfTi1",
        "outputId": "230c3947-4bcb-451d-f10b-a38d33c6bd2d"
      },
      "execution_count": null,
      "outputs": [
        {
          "output_type": "stream",
          "name": "stdout",
          "text": [
            "Epoch 1/20\n"
          ]
        },
        {
          "output_type": "stream",
          "name": "stderr",
          "text": [
            "/usr/local/lib/python3.10/dist-packages/keras/src/layers/core/embedding.py:90: UserWarning: Argument `input_length` is deprecated. Just remove it.\n",
            "  warnings.warn(\n"
          ]
        },
        {
          "output_type": "stream",
          "name": "stdout",
          "text": [
            "313/313 - 12s - 38ms/step - accuracy: 0.7476 - loss: 0.5022 - val_accuracy: 0.8318 - val_loss: 0.3957\n",
            "Epoch 2/20\n",
            "313/313 - 7s - 22ms/step - accuracy: 0.8922 - loss: 0.2750 - val_accuracy: 0.8774 - val_loss: 0.3027\n",
            "Epoch 3/20\n",
            "313/313 - 10s - 31ms/step - accuracy: 0.9204 - loss: 0.2083 - val_accuracy: 0.8776 - val_loss: 0.3191\n",
            "Epoch 4/20\n",
            "313/313 - 11s - 34ms/step - accuracy: 0.9416 - loss: 0.1637 - val_accuracy: 0.8788 - val_loss: 0.3162\n",
            "Epoch 5/20\n",
            "313/313 - 6s - 19ms/step - accuracy: 0.9410 - loss: 0.1594 - val_accuracy: 0.8764 - val_loss: 0.3281\n",
            "Epoch 6/20\n",
            "313/313 - 10s - 33ms/step - accuracy: 0.9443 - loss: 0.1489 - val_accuracy: 0.8326 - val_loss: 0.4326\n",
            "Epoch 7/20\n",
            "313/313 - 5s - 16ms/step - accuracy: 0.9590 - loss: 0.1168 - val_accuracy: 0.8712 - val_loss: 0.3893\n",
            "Epoch 8/20\n",
            "313/313 - 7s - 21ms/step - accuracy: 0.9681 - loss: 0.0943 - val_accuracy: 0.8716 - val_loss: 0.4217\n",
            "Epoch 9/20\n",
            "313/313 - 9s - 30ms/step - accuracy: 0.9773 - loss: 0.0698 - val_accuracy: 0.8716 - val_loss: 0.5212\n"
          ]
        }
      ]
    },
    {
      "cell_type": "code",
      "source": [
        "# 신경망 모델 설계와 학습\n",
        "embed = Sequential()\n",
        "\n",
        "embed.add(Embedding(input_dim=dic_siz, output_dim=embed_space_dim, input_length=sample_siz))\n",
        "embed.add(Flatten())\n",
        "embed.add(Dense(32, activation='relu'))\n",
        "embed.add(Dense(1, activation='sigmoid'))\n",
        "embed.compile(loss='binary_crossentropy', optimizer='adam', metrics=['accuracy'])\n",
        "hist=embed.fit(x_train, y_train, epochs=20, batch_size=64, validation_data=(x_test, y_test), verbose=2)\n",
        "\n",
        "embed.summary()\n",
        "\n",
        "# 모델 평가\n",
        "res = embed.evaluate(x_test, y_test, verbose=0)\n",
        "print(\"정확률은 \", res[1]*100)\n",
        "\n",
        "import matplotlib.pyplot as plt\n",
        "\n",
        "# 학습 곡선\n",
        "plt.plot(hist.history['accuracy'])\n",
        "plt.plot(hist.history['val_accuracy'])\n",
        "plt.title('Model accuracy')\n",
        "plt.xlabel('Epoch')\n",
        "plt.ylabel('Accuracy')\n",
        "plt.legend(['Train', 'Validation'], loc='best')\n",
        "plt.grid()\n",
        "plt.show()"
      ],
      "metadata": {
        "colab": {
          "base_uri": "https://localhost:8080/",
          "height": 1000
        },
        "id": "_W6FDp1OgUOU",
        "outputId": "ced6a11a-4bc9-40e8-80a6-72e96bb8723a"
      },
      "execution_count": null,
      "outputs": [
        {
          "output_type": "stream",
          "name": "stdout",
          "text": [
            "Epoch 1/20\n",
            "391/391 - 5s - 13ms/step - accuracy: 0.7685 - loss: 0.4393 - val_accuracy: 0.8706 - val_loss: 0.3012\n",
            "Epoch 2/20\n",
            "391/391 - 3s - 9ms/step - accuracy: 0.9325 - loss: 0.1805 - val_accuracy: 0.8638 - val_loss: 0.3262\n",
            "Epoch 3/20\n",
            "391/391 - 1s - 3ms/step - accuracy: 0.9823 - loss: 0.0642 - val_accuracy: 0.8597 - val_loss: 0.3905\n",
            "Epoch 4/20\n",
            "391/391 - 2s - 4ms/step - accuracy: 0.9964 - loss: 0.0188 - val_accuracy: 0.8490 - val_loss: 0.4749\n",
            "Epoch 5/20\n",
            "391/391 - 4s - 9ms/step - accuracy: 0.9995 - loss: 0.0054 - val_accuracy: 0.8524 - val_loss: 0.5242\n",
            "Epoch 6/20\n",
            "391/391 - 2s - 5ms/step - accuracy: 0.9999 - loss: 0.0017 - val_accuracy: 0.8541 - val_loss: 0.5705\n",
            "Epoch 7/20\n",
            "391/391 - 1s - 3ms/step - accuracy: 1.0000 - loss: 8.4056e-04 - val_accuracy: 0.8552 - val_loss: 0.5868\n",
            "Epoch 8/20\n",
            "391/391 - 1s - 3ms/step - accuracy: 1.0000 - loss: 5.3301e-04 - val_accuracy: 0.8561 - val_loss: 0.6126\n",
            "Epoch 9/20\n",
            "391/391 - 1s - 3ms/step - accuracy: 1.0000 - loss: 3.4830e-04 - val_accuracy: 0.8549 - val_loss: 0.6323\n",
            "Epoch 10/20\n",
            "391/391 - 1s - 4ms/step - accuracy: 1.0000 - loss: 2.4422e-04 - val_accuracy: 0.8554 - val_loss: 0.6507\n",
            "Epoch 11/20\n",
            "391/391 - 1s - 3ms/step - accuracy: 1.0000 - loss: 1.7720e-04 - val_accuracy: 0.8563 - val_loss: 0.6679\n",
            "Epoch 12/20\n",
            "391/391 - 2s - 5ms/step - accuracy: 1.0000 - loss: 1.3242e-04 - val_accuracy: 0.8566 - val_loss: 0.6843\n",
            "Epoch 13/20\n",
            "391/391 - 2s - 4ms/step - accuracy: 1.0000 - loss: 9.9920e-05 - val_accuracy: 0.8561 - val_loss: 0.7002\n",
            "Epoch 14/20\n",
            "391/391 - 1s - 3ms/step - accuracy: 1.0000 - loss: 7.6661e-05 - val_accuracy: 0.8573 - val_loss: 0.7161\n",
            "Epoch 15/20\n",
            "391/391 - 2s - 6ms/step - accuracy: 1.0000 - loss: 5.9221e-05 - val_accuracy: 0.8571 - val_loss: 0.7317\n",
            "Epoch 16/20\n",
            "391/391 - 1s - 3ms/step - accuracy: 1.0000 - loss: 4.5423e-05 - val_accuracy: 0.8573 - val_loss: 0.7468\n",
            "Epoch 17/20\n",
            "391/391 - 1s - 3ms/step - accuracy: 1.0000 - loss: 3.5706e-05 - val_accuracy: 0.8572 - val_loss: 0.7618\n",
            "Epoch 18/20\n",
            "391/391 - 1s - 4ms/step - accuracy: 1.0000 - loss: 2.8172e-05 - val_accuracy: 0.8576 - val_loss: 0.7764\n",
            "Epoch 19/20\n",
            "391/391 - 3s - 7ms/step - accuracy: 1.0000 - loss: 2.2005e-05 - val_accuracy: 0.8575 - val_loss: 0.7913\n",
            "Epoch 20/20\n",
            "391/391 - 2s - 6ms/step - accuracy: 1.0000 - loss: 1.7378e-05 - val_accuracy: 0.8581 - val_loss: 0.8056\n"
          ]
        },
        {
          "output_type": "display_data",
          "data": {
            "text/plain": [
              "\u001b[1mModel: \"sequential_2\"\u001b[0m\n"
            ],
            "text/html": [
              "<pre style=\"white-space:pre;overflow-x:auto;line-height:normal;font-family:Menlo,'DejaVu Sans Mono',consolas,'Courier New',monospace\"><span style=\"font-weight: bold\">Model: \"sequential_2\"</span>\n",
              "</pre>\n"
            ]
          },
          "metadata": {}
        },
        {
          "output_type": "display_data",
          "data": {
            "text/plain": [
              "┏━━━━━━━━━━━━━━━━━━━━━━━━━━━━━━━━━━━━━━┳━━━━━━━━━━━━━━━━━━━━━━━━━━━━━┳━━━━━━━━━━━━━━━━━┓\n",
              "┃\u001b[1m \u001b[0m\u001b[1mLayer (type)                        \u001b[0m\u001b[1m \u001b[0m┃\u001b[1m \u001b[0m\u001b[1mOutput Shape               \u001b[0m\u001b[1m \u001b[0m┃\u001b[1m \u001b[0m\u001b[1m        Param #\u001b[0m\u001b[1m \u001b[0m┃\n",
              "┡━━━━━━━━━━━━━━━━━━━━━━━━━━━━━━━━━━━━━━╇━━━━━━━━━━━━━━━━━━━━━━━━━━━━━╇━━━━━━━━━━━━━━━━━┩\n",
              "│ embedding_2 (\u001b[38;5;33mEmbedding\u001b[0m)              │ (\u001b[38;5;45mNone\u001b[0m, \u001b[38;5;34m512\u001b[0m, \u001b[38;5;34m16\u001b[0m)             │         \u001b[38;5;34m160,000\u001b[0m │\n",
              "├──────────────────────────────────────┼─────────────────────────────┼─────────────────┤\n",
              "│ flatten_1 (\u001b[38;5;33mFlatten\u001b[0m)                  │ (\u001b[38;5;45mNone\u001b[0m, \u001b[38;5;34m8192\u001b[0m)                │               \u001b[38;5;34m0\u001b[0m │\n",
              "├──────────────────────────────────────┼─────────────────────────────┼─────────────────┤\n",
              "│ dense_3 (\u001b[38;5;33mDense\u001b[0m)                      │ (\u001b[38;5;45mNone\u001b[0m, \u001b[38;5;34m32\u001b[0m)                  │         \u001b[38;5;34m262,176\u001b[0m │\n",
              "├──────────────────────────────────────┼─────────────────────────────┼─────────────────┤\n",
              "│ dense_4 (\u001b[38;5;33mDense\u001b[0m)                      │ (\u001b[38;5;45mNone\u001b[0m, \u001b[38;5;34m1\u001b[0m)                   │              \u001b[38;5;34m33\u001b[0m │\n",
              "└──────────────────────────────────────┴─────────────────────────────┴─────────────────┘\n"
            ],
            "text/html": [
              "<pre style=\"white-space:pre;overflow-x:auto;line-height:normal;font-family:Menlo,'DejaVu Sans Mono',consolas,'Courier New',monospace\">┏━━━━━━━━━━━━━━━━━━━━━━━━━━━━━━━━━━━━━━┳━━━━━━━━━━━━━━━━━━━━━━━━━━━━━┳━━━━━━━━━━━━━━━━━┓\n",
              "┃<span style=\"font-weight: bold\"> Layer (type)                         </span>┃<span style=\"font-weight: bold\"> Output Shape                </span>┃<span style=\"font-weight: bold\">         Param # </span>┃\n",
              "┡━━━━━━━━━━━━━━━━━━━━━━━━━━━━━━━━━━━━━━╇━━━━━━━━━━━━━━━━━━━━━━━━━━━━━╇━━━━━━━━━━━━━━━━━┩\n",
              "│ embedding_2 (<span style=\"color: #0087ff; text-decoration-color: #0087ff\">Embedding</span>)              │ (<span style=\"color: #00d7ff; text-decoration-color: #00d7ff\">None</span>, <span style=\"color: #00af00; text-decoration-color: #00af00\">512</span>, <span style=\"color: #00af00; text-decoration-color: #00af00\">16</span>)             │         <span style=\"color: #00af00; text-decoration-color: #00af00\">160,000</span> │\n",
              "├──────────────────────────────────────┼─────────────────────────────┼─────────────────┤\n",
              "│ flatten_1 (<span style=\"color: #0087ff; text-decoration-color: #0087ff\">Flatten</span>)                  │ (<span style=\"color: #00d7ff; text-decoration-color: #00d7ff\">None</span>, <span style=\"color: #00af00; text-decoration-color: #00af00\">8192</span>)                │               <span style=\"color: #00af00; text-decoration-color: #00af00\">0</span> │\n",
              "├──────────────────────────────────────┼─────────────────────────────┼─────────────────┤\n",
              "│ dense_3 (<span style=\"color: #0087ff; text-decoration-color: #0087ff\">Dense</span>)                      │ (<span style=\"color: #00d7ff; text-decoration-color: #00d7ff\">None</span>, <span style=\"color: #00af00; text-decoration-color: #00af00\">32</span>)                  │         <span style=\"color: #00af00; text-decoration-color: #00af00\">262,176</span> │\n",
              "├──────────────────────────────────────┼─────────────────────────────┼─────────────────┤\n",
              "│ dense_4 (<span style=\"color: #0087ff; text-decoration-color: #0087ff\">Dense</span>)                      │ (<span style=\"color: #00d7ff; text-decoration-color: #00d7ff\">None</span>, <span style=\"color: #00af00; text-decoration-color: #00af00\">1</span>)                   │              <span style=\"color: #00af00; text-decoration-color: #00af00\">33</span> │\n",
              "└──────────────────────────────────────┴─────────────────────────────┴─────────────────┘\n",
              "</pre>\n"
            ]
          },
          "metadata": {}
        },
        {
          "output_type": "display_data",
          "data": {
            "text/plain": [
              "\u001b[1m Total params: \u001b[0m\u001b[38;5;34m1,266,629\u001b[0m (4.83 MB)\n"
            ],
            "text/html": [
              "<pre style=\"white-space:pre;overflow-x:auto;line-height:normal;font-family:Menlo,'DejaVu Sans Mono',consolas,'Courier New',monospace\"><span style=\"font-weight: bold\"> Total params: </span><span style=\"color: #00af00; text-decoration-color: #00af00\">1,266,629</span> (4.83 MB)\n",
              "</pre>\n"
            ]
          },
          "metadata": {}
        },
        {
          "output_type": "display_data",
          "data": {
            "text/plain": [
              "\u001b[1m Trainable params: \u001b[0m\u001b[38;5;34m422,209\u001b[0m (1.61 MB)\n"
            ],
            "text/html": [
              "<pre style=\"white-space:pre;overflow-x:auto;line-height:normal;font-family:Menlo,'DejaVu Sans Mono',consolas,'Courier New',monospace\"><span style=\"font-weight: bold\"> Trainable params: </span><span style=\"color: #00af00; text-decoration-color: #00af00\">422,209</span> (1.61 MB)\n",
              "</pre>\n"
            ]
          },
          "metadata": {}
        },
        {
          "output_type": "display_data",
          "data": {
            "text/plain": [
              "\u001b[1m Non-trainable params: \u001b[0m\u001b[38;5;34m0\u001b[0m (0.00 B)\n"
            ],
            "text/html": [
              "<pre style=\"white-space:pre;overflow-x:auto;line-height:normal;font-family:Menlo,'DejaVu Sans Mono',consolas,'Courier New',monospace\"><span style=\"font-weight: bold\"> Non-trainable params: </span><span style=\"color: #00af00; text-decoration-color: #00af00\">0</span> (0.00 B)\n",
              "</pre>\n"
            ]
          },
          "metadata": {}
        },
        {
          "output_type": "display_data",
          "data": {
            "text/plain": [
              "\u001b[1m Optimizer params: \u001b[0m\u001b[38;5;34m844,420\u001b[0m (3.22 MB)\n"
            ],
            "text/html": [
              "<pre style=\"white-space:pre;overflow-x:auto;line-height:normal;font-family:Menlo,'DejaVu Sans Mono',consolas,'Courier New',monospace\"><span style=\"font-weight: bold\"> Optimizer params: </span><span style=\"color: #00af00; text-decoration-color: #00af00\">844,420</span> (3.22 MB)\n",
              "</pre>\n"
            ]
          },
          "metadata": {}
        },
        {
          "output_type": "stream",
          "name": "stdout",
          "text": [
            "정확률은  85.81200242042542\n"
          ]
        },
        {
          "output_type": "display_data",
          "data": {
            "text/plain": [
              "<Figure size 640x480 with 1 Axes>"
            ],
            "image/png": "[encoded data removed]"
          },
          "metadata": {}
        }
      ]
    }
  ]
}